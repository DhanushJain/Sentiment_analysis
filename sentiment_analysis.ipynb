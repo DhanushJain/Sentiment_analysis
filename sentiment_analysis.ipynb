{
  "nbformat": 4,
  "nbformat_minor": 0,
  "metadata": {
    "colab": {
      "name": "sentiment_analysis.ipynb",
      "provenance": [],
      "collapsed_sections": []
    },
    "kernelspec": {
      "name": "python3",
      "display_name": "Python 3"
    },
    "language_info": {
      "name": "python"
    }
  },
  "cells": [
    {
      "cell_type": "markdown",
      "source": [
        "Pre installs"
      ],
      "metadata": {
        "id": "ETSqzFJnWrp_"
      }
    },
    {
      "cell_type": "code",
      "source": [
        "# install needed packages\n",
        "# !pip install snorkel\n",
        "# !pip install textblob"
      ],
      "metadata": {
        "id": "08xjscpRWq1I"
      },
      "execution_count": 1,
      "outputs": []
    },
    {
      "cell_type": "markdown",
      "source": [
        "##Imports\n"
      ],
      "metadata": {
        "id": "yZXhKIr6WVGA"
      }
    },
    {
      "cell_type": "code",
      "execution_count": 49,
      "metadata": {
        "id": "OlNkL0-JWUe6"
      },
      "outputs": [],
      "source": [
        "from bs4 import BeautifulSoup\n",
        "import requests \n",
        "import json\n",
        "import pandas as pd\n",
        "import plotly.graph_objects as go\n",
        "\n",
        "\n",
        "from snorkel.labeling import LabelingFunction\n",
        "import re\n",
        "from snorkel.preprocess import preprocessor\n",
        "from textblob import TextBlob\n",
        "from snorkel.labeling import PandasLFApplier\n",
        "from snorkel.labeling.model import LabelModel\n",
        "from snorkel.labeling import LFAnalysis\n",
        "from snorkel.labeling import filter_unlabeled_dataframe\n",
        "from snorkel.labeling import labeling_function\n",
        "\n",
        "import numpy as np\n",
        "import tensorflow as tf\n",
        "from tensorflow.keras.preprocessing.text import Tokenizer\n",
        "from tensorflow.keras.preprocessing.sequence import pad_sequences"
      ]
    },
    {
      "cell_type": "markdown",
      "source": [
        "##Web scraping"
      ],
      "metadata": {
        "id": "rGV8PD-hElWc"
      }
    },
    {
      "cell_type": "code",
      "source": [
        "\n",
        "def get_headlines(headline_count=10):\n",
        "    content = requests.get('https://www.aljazeera.com/where/mozambique/')\n",
        "    soup = BeautifulSoup(content.content, 'html.parser')\n",
        "    # to keep the data in json format\n",
        "    top_headlines = {}\n",
        "    all_a = soup.find_all('article')\n",
        "    for i in range(headline_count):\n",
        "        headline = all_a[i].find('h3')\n",
        "        text = headline.get_text().strip()\n",
        "        text = ascii(text).replace('\\\\xad','')\n",
        "        # to get back the ascii values \n",
        "        text = text.replace('\\\\n','')\n",
        "        text = text.replace('\\\\u2019',\"'\")\n",
        "        top_headlines.update({i: {'Headline': text}})\n",
        "    return top_headlines"
      ],
      "metadata": {
        "id": "bLE5K2wbElIt"
      },
      "execution_count": 3,
      "outputs": []
    },
    {
      "cell_type": "markdown",
      "source": [
        "Converting the output of web scraping in JSON format"
      ],
      "metadata": {
        "id": "47khgbdwauWY"
      }
    },
    {
      "cell_type": "code",
      "source": [
        "# run this cell to get the JSON file ONLY.\n",
        "headlines = get_headlines()\n",
        "with open('headlines.json', 'w') as fp:\n",
        "    json.dump(headlines, fp)"
      ],
      "metadata": {
        "id": "WOYf-1GZa01-"
      },
      "execution_count": null,
      "outputs": []
    },
    {
      "cell_type": "markdown",
      "source": [
        "#Training a custom model"
      ],
      "metadata": {
        "id": "jdCr49UDEw3-"
      }
    },
    {
      "cell_type": "markdown",
      "source": [
        "##Data Extraction and Preprocessing"
      ],
      "metadata": {
        "id": "U7iS0WUeEqGw"
      }
    },
    {
      "cell_type": "code",
      "source": [
        "# extracting data from my cloud.\n",
        "# to run this, please put the dataset file location.\n",
        "#cloud\n",
        "dataset_link = '/content/drive/MyDrive/Colab Notebooks/Data/data.csv'\n",
        "#downloaded from github\n",
        "# dataset_link = \"dataset/data.csv\"\n",
        "\n",
        "df = pd.read_csv(dataset_link)\n",
        "\n",
        "# data cleaning\n",
        "df = df.drop(['publish_date'], axis=1)\n",
        "df = df.rename(columns = {'headline_text': 'text'})\n",
        "df['text'] = df['text'].astype(str)\n",
        "\n",
        "# using only first 100000 data\n",
        "df = df.head(100000)"
      ],
      "metadata": {
        "id": "NJV9O1xqWXbk"
      },
      "execution_count": 4,
      "outputs": []
    },
    {
      "cell_type": "markdown",
      "source": [
        "Positive words and Negative words."
      ],
      "metadata": {
        "id": "mBD5IKFSfNb9"
      }
    },
    {
      "cell_type": "code",
      "source": [
        "positive_words = ['boosts',\n",
        "                 'great',\n",
        "                 'develops',\n",
        "                 'promising',\n",
        "                 'ambitious',\n",
        "                 'delighted',\n",
        "                 'record',\n",
        "                 'win',\n",
        "                 'breakthrough',\n",
        "                 'recover',\n",
        "                 'achievement',\n",
        "                 'peace',\n",
        "                 'party',\n",
        "                 'hope',\n",
        "                 'flourish',\n",
        "                 'respect',\n",
        "                 'partnership',\n",
        "                 'champion',\n",
        "                 'positive',\n",
        "                 'happy',\n",
        "                 'bright',\n",
        "                 'confident',\n",
        "                 'encouraged',\n",
        "                 'perfect',\n",
        "                 'complete',\n",
        "                 'assured' \n",
        "                 \n",
        "]\n",
        "negative_words = ['war',\n",
        "                  'solidiers', \n",
        "                  'turmoil', \n",
        "                  'injur',\n",
        "                  'trouble', \n",
        "                  'aggressive', \n",
        "                  'killed', \n",
        "                  'coup', \n",
        "                  'evasion', \n",
        "                  'strike', \n",
        "                  'troops', \n",
        "                  'dismisses', \n",
        "                  'attacks', \n",
        "                  'defeat', \n",
        "                  'damage', \n",
        "                  'dishonest', \n",
        "                  'dead', \n",
        "                  'fear', \n",
        "                  'foul', \n",
        "                  'fails', \n",
        "                  'hostile', \n",
        "                  'cuts', \n",
        "                  'accusations', \n",
        "                  'victims',  \n",
        "                  'death', \n",
        "                  'unrest', \n",
        "                  'fraud', \n",
        "                  'dispute', \n",
        "                  'destruction', \n",
        "                  'battle', \n",
        "                  'unhappy', \n",
        "                  'bad', \n",
        "                  'alarming', \n",
        "                  'angry', \n",
        "                  'anxious', \n",
        "                  'dirty', \n",
        "                  'pain', \n",
        "                  'poison', \n",
        "                  'unfair', \n",
        "                  'unhealthy',\n",
        "                  'trump',\n",
        "                  'mueller',\n",
        "                  'criminal',\n",
        "                  'judge',\n",
        "                  'mccabe',\n",
        "                  'court',\n",
        "                  'contempt',             \n",
        "]\n",
        "  "
      ],
      "metadata": {
        "id": "0jkidimefJWO"
      },
      "execution_count": 5,
      "outputs": []
    },
    {
      "cell_type": "code",
      "source": [
        "POSITIVE = 1\n",
        "NEGATIVE = 0\n",
        "ABSTAIN = -1\n",
        "# to look up words and provide proper labels\n",
        "def keyword_lookup(x, keywords, label):  \n",
        "    if any(word in x.text.lower() for word in keywords):\n",
        "        return label\n",
        "    return ABSTAIN\n",
        "# assigning correct labels\n",
        "def labeling_keywords(keywords, label=POSITIVE):\n",
        "    return LabelingFunction(\n",
        "        name=f\"keyword_{keywords[0]}\",\n",
        "        f=keyword_lookup,\n",
        "        resources=dict(keywords=keywords, label=label))\n",
        "\n",
        "positive_keywords = labeling_keywords(keywords=positive_words)\n",
        "negative_keywords = labeling_keywords(keywords=negative_words, label=NEGATIVE)"
      ],
      "metadata": {
        "id": "fnIKD5GrW36c"
      },
      "execution_count": 6,
      "outputs": []
    },
    {
      "cell_type": "code",
      "source": [
        "# determining polarity and subjectivity using textblob pretrained classifier \n",
        "@preprocessor(memoize=True)\n",
        "def sentiment_by_textblob(x):\n",
        "    scores = TextBlob(x.text)\n",
        "    x.polarity = scores.sentiment.polarity\n",
        "    x.subjectivity = scores.sentiment.subjectivity\n",
        "    return x\n",
        "# polarity\n",
        "@labeling_function(pre=[sentiment_by_textblob])\n",
        "def _polarity(x):\n",
        "    return POSITIVE if x.polarity > 0.6 else ABSTAIN\n",
        "# subjectivity \n",
        "@labeling_function(pre=[sentiment_by_textblob])\n",
        "def _subjectivity(x):\n",
        "    return POSITIVE if x.subjectivity >= 0.5 else ABSTAIN"
      ],
      "metadata": {
        "id": "6sfEc4TxYvBX"
      },
      "execution_count": 10,
      "outputs": []
    },
    {
      "cell_type": "code",
      "source": [
        "\n",
        "#combining label functions\n",
        "lfs  = [positive_keywords, negative_keywords, _polarity, _subjectivity]\n",
        "applier = PandasLFApplier(lfs=lfs)\n",
        "\n",
        "L_snorkel = applier.apply(df=df)\n",
        "label_model = LabelModel(cardinality=2, verbose=True)\n",
        "\n",
        "label_model.fit(L_snorkel)\n",
        "df[\"label\"] = label_model.predict(L=L_snorkel)"
      ],
      "metadata": {
        "colab": {
          "base_uri": "https://localhost:8080/"
        },
        "id": "Xj3FTWGIZEDG",
        "outputId": "0bff112b-bc6f-4996-c976-d41235e1e5ea"
      },
      "execution_count": 13,
      "outputs": [
        {
          "output_type": "stream",
          "name": "stderr",
          "text": [
            "100%|██████████| 100000/100000 [02:28<00:00, 671.94it/s]\n",
            "INFO:root:Computing O...\n",
            "INFO:root:Estimating \\mu...\n",
            "  0%|          | 0/100 [00:00<?, ?epoch/s]INFO:root:[0 epochs]: TRAIN:[loss=0.016]\n",
            "  1%|          | 1/100 [00:00<00:11,  8.70epoch/s]INFO:root:[10 epochs]: TRAIN:[loss=0.006]\n",
            "INFO:root:[20 epochs]: TRAIN:[loss=0.000]\n",
            "INFO:root:[30 epochs]: TRAIN:[loss=0.001]\n",
            "INFO:root:[40 epochs]: TRAIN:[loss=0.001]\n",
            "INFO:root:[50 epochs]: TRAIN:[loss=0.000]\n",
            "INFO:root:[60 epochs]: TRAIN:[loss=0.000]\n",
            "INFO:root:[70 epochs]: TRAIN:[loss=0.000]\n",
            " 73%|███████▎  | 73/100 [00:00<00:00, 401.83epoch/s]INFO:root:[80 epochs]: TRAIN:[loss=0.000]\n",
            "INFO:root:[90 epochs]: TRAIN:[loss=0.000]\n",
            "100%|██████████| 100/100 [00:00<00:00, 397.20epoch/s]\n",
            "INFO:root:Finished Training\n"
          ]
        }
      ]
    },
    {
      "cell_type": "code",
      "source": [
        "# Filtering unlabeled data\n",
        "df= df.loc[df.label.isin([0,1]), :]"
      ],
      "metadata": {
        "id": "K5zf7ThP9D5k"
      },
      "execution_count": 14,
      "outputs": []
    },
    {
      "cell_type": "code",
      "source": [
        "data = df.copy()\n",
        "\n",
        "text = list(data['text'])\n",
        "labels = list(data['label'])\n",
        "# training and test data of text\n",
        "training_text = text[0:20000]\n",
        "testing_text = text[20000:]\n",
        "# training and test data of labels\n",
        "training_labels = labels[0:20000]\n",
        "testing_labels = labels[20000:]"
      ],
      "metadata": {
        "id": "SzJOCRda_mLK"
      },
      "execution_count": 15,
      "outputs": []
    },
    {
      "cell_type": "code",
      "source": [
        "# preprocessing\n",
        "tokenizer = Tokenizer(num_words=10000, oov_token= \"<OOV>\")\n",
        "tokenizer.fit_on_texts(training_text)\n",
        "\n",
        "word_index = tokenizer.word_index\n",
        "#sequencing and padding\n",
        "training_sequences = tokenizer.texts_to_sequences(training_text)\n",
        "training_padded = pad_sequences(training_sequences, maxlen=100, padding='post', truncating='post')\n",
        "testing_sequences = tokenizer.texts_to_sequences(testing_text)\n",
        "testing_padded = pad_sequences(testing_sequences, maxlen=100, padding='post', truncating='post')\n",
        "# TensorFlow input is in np array \n",
        "training_padded = np.array(training_padded)\n",
        "training_labels = np.array(training_labels)\n",
        "testing_padded = np.array(testing_padded)\n",
        "testing_labels = np.array(testing_labels)"
      ],
      "metadata": {
        "id": "J2KXy1EzAAN5"
      },
      "execution_count": 16,
      "outputs": []
    },
    {
      "cell_type": "code",
      "source": [
        "model = tf.keras.Sequential([\n",
        "    tf.keras.layers.Embedding(10000, 16, input_length=100),\n",
        "    tf.keras.layers.GlobalAveragePooling1D(),\n",
        "    tf.keras.layers.Dense(24, activation='relu'),\n",
        "    tf.keras.layers.Dense(1, activation='sigmoid')\n",
        "])\n",
        "\n",
        "model.compile(loss='binary_crossentropy',optimizer='adam',metrics=['accuracy'])\n",
        " \n",
        "model.summary()"
      ],
      "metadata": {
        "colab": {
          "base_uri": "https://localhost:8080/"
        },
        "id": "ufTp77ejAFGZ",
        "outputId": "a1901864-602a-4bfb-9260-8b45ce3d88c0"
      },
      "execution_count": 17,
      "outputs": [
        {
          "output_type": "stream",
          "name": "stdout",
          "text": [
            "Model: \"sequential\"\n",
            "_________________________________________________________________\n",
            " Layer (type)                Output Shape              Param #   \n",
            "=================================================================\n",
            " embedding (Embedding)       (None, 100, 16)           160000    \n",
            "                                                                 \n",
            " global_average_pooling1d (G  (None, 16)               0         \n",
            " lobalAveragePooling1D)                                          \n",
            "                                                                 \n",
            " dense (Dense)               (None, 24)                408       \n",
            "                                                                 \n",
            " dense_1 (Dense)             (None, 1)                 25        \n",
            "                                                                 \n",
            "=================================================================\n",
            "Total params: 160,433\n",
            "Trainable params: 160,433\n",
            "Non-trainable params: 0\n",
            "_________________________________________________________________\n"
          ]
        }
      ]
    },
    {
      "cell_type": "code",
      "source": [
        "num_epochs = 15\n",
        "history = model.fit(training_padded, \n",
        "                    training_labels, \n",
        "                    epochs=num_epochs, \n",
        "                    validation_data=(testing_padded, testing_labels), \n",
        "                    verbose=2)"
      ],
      "metadata": {
        "colab": {
          "base_uri": "https://localhost:8080/"
        },
        "id": "kVUlzg-tAH7p",
        "outputId": "ff081159-ea67-4009-b321-64bbe524a9cd"
      },
      "execution_count": 18,
      "outputs": [
        {
          "output_type": "stream",
          "name": "stdout",
          "text": [
            "Epoch 1/15\n",
            "625/625 - 4s - loss: 0.6356 - accuracy: 0.6332 - val_loss: 0.5364 - val_accuracy: 0.6886 - 4s/epoch - 6ms/step\n",
            "Epoch 2/15\n",
            "625/625 - 3s - loss: 0.3306 - accuracy: 0.8854 - val_loss: 0.2338 - val_accuracy: 0.9167 - 3s/epoch - 4ms/step\n",
            "Epoch 3/15\n",
            "625/625 - 2s - loss: 0.1522 - accuracy: 0.9553 - val_loss: 0.1500 - val_accuracy: 0.9509 - 2s/epoch - 4ms/step\n",
            "Epoch 4/15\n",
            "625/625 - 2s - loss: 0.0958 - accuracy: 0.9722 - val_loss: 0.1275 - val_accuracy: 0.9544 - 2s/epoch - 4ms/step\n",
            "Epoch 5/15\n",
            "625/625 - 3s - loss: 0.0678 - accuracy: 0.9804 - val_loss: 0.1067 - val_accuracy: 0.9611 - 3s/epoch - 4ms/step\n",
            "Epoch 6/15\n",
            "625/625 - 3s - loss: 0.0497 - accuracy: 0.9855 - val_loss: 0.0947 - val_accuracy: 0.9653 - 3s/epoch - 4ms/step\n",
            "Epoch 7/15\n",
            "625/625 - 3s - loss: 0.0383 - accuracy: 0.9898 - val_loss: 0.0936 - val_accuracy: 0.9665 - 3s/epoch - 4ms/step\n",
            "Epoch 8/15\n",
            "625/625 - 3s - loss: 0.0297 - accuracy: 0.9922 - val_loss: 0.0873 - val_accuracy: 0.9675 - 3s/epoch - 4ms/step\n",
            "Epoch 9/15\n",
            "625/625 - 3s - loss: 0.0232 - accuracy: 0.9941 - val_loss: 0.0860 - val_accuracy: 0.9678 - 3s/epoch - 4ms/step\n",
            "Epoch 10/15\n",
            "625/625 - 3s - loss: 0.0184 - accuracy: 0.9953 - val_loss: 0.0867 - val_accuracy: 0.9682 - 3s/epoch - 5ms/step\n",
            "Epoch 11/15\n",
            "625/625 - 3s - loss: 0.0149 - accuracy: 0.9965 - val_loss: 0.0985 - val_accuracy: 0.9659 - 3s/epoch - 4ms/step\n",
            "Epoch 12/15\n",
            "625/625 - 2s - loss: 0.0115 - accuracy: 0.9975 - val_loss: 0.1032 - val_accuracy: 0.9644 - 2s/epoch - 4ms/step\n",
            "Epoch 13/15\n",
            "625/625 - 3s - loss: 0.0095 - accuracy: 0.9982 - val_loss: 0.1053 - val_accuracy: 0.9639 - 3s/epoch - 4ms/step\n",
            "Epoch 14/15\n",
            "625/625 - 2s - loss: 0.0079 - accuracy: 0.9980 - val_loss: 0.0954 - val_accuracy: 0.9671 - 2s/epoch - 4ms/step\n",
            "Epoch 15/15\n",
            "625/625 - 2s - loss: 0.0056 - accuracy: 0.9991 - val_loss: 0.1044 - val_accuracy: 0.9647 - 2s/epoch - 4ms/step\n"
          ]
        }
      ]
    },
    {
      "cell_type": "code",
      "source": [
        "print('Headlines:\\n')\n",
        "Analysis_results = []\n",
        "for headline in get_headlines().values():\n",
        "    new_headline = headline['Headline']\n",
        "    print(new_headline)\n",
        "    sequences = tokenizer.texts_to_sequences([new_headline])\n",
        "    padded_seqs = pad_sequences(sequences, maxlen=100, padding='post', truncating='post')\n",
        "    Analysis_results.append(model.predict(padded_seqs)[0][0])"
      ],
      "metadata": {
        "colab": {
          "base_uri": "https://localhost:8080/"
        },
        "id": "ciHH6fP7AKzq",
        "outputId": "2586a54e-7073-4513-f238-36d9e8c42113"
      },
      "execution_count": 54,
      "outputs": [
        {
          "output_type": "stream",
          "name": "stdout",
          "text": [
            "Headlines:\n",
            "\n",
            "'Floods hit South Africa's KwaZulu-Natal province again'\n",
            "'Mozambique: Cyclone Gombe death toll rises to 53'\n",
            "'Mozambique announces new prime minister after cabinet reshuffle'\n",
            "'Analysis: Can African gas replace Russian supplies to Europe?'\n",
            "'Dozens dead from Tropical Storm Ana in southern Africa'\n",
            "'Southern Africa bloc SADC extends Mozambique mission'\n",
            "'Climate change and famine | Start Here'\n",
            "'In Mozambique, Kagame says Rwandan troops' work not over'\n",
            "'Rwanda, Mozambique forces recapture port city from rebels'\n",
            "'Rwanda deploys 1,000 soldiers to Mozambique's Cabo Delgado'\n"
          ]
        }
      ]
    },
    {
      "cell_type": "code",
      "source": [
        "print('Towards 1 is positive sentiment and Towards 0 is negative sentiment\\n')\n",
        "fig = go.Figure()\n",
        "fig.add_trace(go.Scatter(\n",
        "    x=list(range(1,len(Analysis_results)+1)),\n",
        "    y=Analysis_results\n",
        "))\n",
        "\n",
        "fig.update_layout(\n",
        "    autosize=False,\n",
        "    width=700,\n",
        "    height=500,\n",
        "    paper_bgcolor='lightgrey'\n",
        ")\n",
        "\n",
        "# showing the plot\n",
        "fig.show()"
      ],
      "metadata": {
        "colab": {
          "base_uri": "https://localhost:8080/",
          "height": 552
        },
        "id": "RuDglE49bMHL",
        "outputId": "cd3f69f1-097b-4b8b-9726-5c0dd1232eda"
      },
      "execution_count": 51,
      "outputs": [
        {
          "output_type": "stream",
          "name": "stdout",
          "text": [
            "Towards 1 is positive sentiment and Towards 0 is negative sentiment\n",
            "\n"
          ]
        },
        {
          "output_type": "display_data",
          "data": {
            "text/html": [
              "<html>\n",
              "<head><meta charset=\"utf-8\" /></head>\n",
              "<body>\n",
              "    <div>            <script src=\"https://cdnjs.cloudflare.com/ajax/libs/mathjax/2.7.5/MathJax.js?config=TeX-AMS-MML_SVG\"></script><script type=\"text/javascript\">if (window.MathJax) {MathJax.Hub.Config({SVG: {font: \"STIX-Web\"}});}</script>                <script type=\"text/javascript\">window.PlotlyConfig = {MathJaxConfig: 'local'};</script>\n",
              "        <script src=\"https://cdn.plot.ly/plotly-2.8.3.min.js\"></script>                <div id=\"44dfca93-394f-49bd-b347-514fe4f8ab62\" class=\"plotly-graph-div\" style=\"height:500px; width:700px;\"></div>            <script type=\"text/javascript\">                                    window.PLOTLYENV=window.PLOTLYENV || {};                                    if (document.getElementById(\"44dfca93-394f-49bd-b347-514fe4f8ab62\")) {                    Plotly.newPlot(                        \"44dfca93-394f-49bd-b347-514fe4f8ab62\",                        [{\"x\":[1,2,3,4,5,6,7,8,9,10],\"y\":[0.8726046681404114,0.0024858713150024414,0.38044682145118713,0.012656301259994507,0.0013158917427062988,0.14762043952941895,0.9951517581939697,0.9999632835388184,0.849455714225769,0.6177921891212463],\"type\":\"scatter\"}],                        {\"template\":{\"data\":{\"bar\":[{\"error_x\":{\"color\":\"#2a3f5f\"},\"error_y\":{\"color\":\"#2a3f5f\"},\"marker\":{\"line\":{\"color\":\"#E5ECF6\",\"width\":0.5},\"pattern\":{\"fillmode\":\"overlay\",\"size\":10,\"solidity\":0.2}},\"type\":\"bar\"}],\"barpolar\":[{\"marker\":{\"line\":{\"color\":\"#E5ECF6\",\"width\":0.5},\"pattern\":{\"fillmode\":\"overlay\",\"size\":10,\"solidity\":0.2}},\"type\":\"barpolar\"}],\"carpet\":[{\"aaxis\":{\"endlinecolor\":\"#2a3f5f\",\"gridcolor\":\"white\",\"linecolor\":\"white\",\"minorgridcolor\":\"white\",\"startlinecolor\":\"#2a3f5f\"},\"baxis\":{\"endlinecolor\":\"#2a3f5f\",\"gridcolor\":\"white\",\"linecolor\":\"white\",\"minorgridcolor\":\"white\",\"startlinecolor\":\"#2a3f5f\"},\"type\":\"carpet\"}],\"choropleth\":[{\"colorbar\":{\"outlinewidth\":0,\"ticks\":\"\"},\"type\":\"choropleth\"}],\"contour\":[{\"colorbar\":{\"outlinewidth\":0,\"ticks\":\"\"},\"colorscale\":[[0.0,\"#0d0887\"],[0.1111111111111111,\"#46039f\"],[0.2222222222222222,\"#7201a8\"],[0.3333333333333333,\"#9c179e\"],[0.4444444444444444,\"#bd3786\"],[0.5555555555555556,\"#d8576b\"],[0.6666666666666666,\"#ed7953\"],[0.7777777777777778,\"#fb9f3a\"],[0.8888888888888888,\"#fdca26\"],[1.0,\"#f0f921\"]],\"type\":\"contour\"}],\"contourcarpet\":[{\"colorbar\":{\"outlinewidth\":0,\"ticks\":\"\"},\"type\":\"contourcarpet\"}],\"heatmap\":[{\"colorbar\":{\"outlinewidth\":0,\"ticks\":\"\"},\"colorscale\":[[0.0,\"#0d0887\"],[0.1111111111111111,\"#46039f\"],[0.2222222222222222,\"#7201a8\"],[0.3333333333333333,\"#9c179e\"],[0.4444444444444444,\"#bd3786\"],[0.5555555555555556,\"#d8576b\"],[0.6666666666666666,\"#ed7953\"],[0.7777777777777778,\"#fb9f3a\"],[0.8888888888888888,\"#fdca26\"],[1.0,\"#f0f921\"]],\"type\":\"heatmap\"}],\"heatmapgl\":[{\"colorbar\":{\"outlinewidth\":0,\"ticks\":\"\"},\"colorscale\":[[0.0,\"#0d0887\"],[0.1111111111111111,\"#46039f\"],[0.2222222222222222,\"#7201a8\"],[0.3333333333333333,\"#9c179e\"],[0.4444444444444444,\"#bd3786\"],[0.5555555555555556,\"#d8576b\"],[0.6666666666666666,\"#ed7953\"],[0.7777777777777778,\"#fb9f3a\"],[0.8888888888888888,\"#fdca26\"],[1.0,\"#f0f921\"]],\"type\":\"heatmapgl\"}],\"histogram\":[{\"marker\":{\"pattern\":{\"fillmode\":\"overlay\",\"size\":10,\"solidity\":0.2}},\"type\":\"histogram\"}],\"histogram2d\":[{\"colorbar\":{\"outlinewidth\":0,\"ticks\":\"\"},\"colorscale\":[[0.0,\"#0d0887\"],[0.1111111111111111,\"#46039f\"],[0.2222222222222222,\"#7201a8\"],[0.3333333333333333,\"#9c179e\"],[0.4444444444444444,\"#bd3786\"],[0.5555555555555556,\"#d8576b\"],[0.6666666666666666,\"#ed7953\"],[0.7777777777777778,\"#fb9f3a\"],[0.8888888888888888,\"#fdca26\"],[1.0,\"#f0f921\"]],\"type\":\"histogram2d\"}],\"histogram2dcontour\":[{\"colorbar\":{\"outlinewidth\":0,\"ticks\":\"\"},\"colorscale\":[[0.0,\"#0d0887\"],[0.1111111111111111,\"#46039f\"],[0.2222222222222222,\"#7201a8\"],[0.3333333333333333,\"#9c179e\"],[0.4444444444444444,\"#bd3786\"],[0.5555555555555556,\"#d8576b\"],[0.6666666666666666,\"#ed7953\"],[0.7777777777777778,\"#fb9f3a\"],[0.8888888888888888,\"#fdca26\"],[1.0,\"#f0f921\"]],\"type\":\"histogram2dcontour\"}],\"mesh3d\":[{\"colorbar\":{\"outlinewidth\":0,\"ticks\":\"\"},\"type\":\"mesh3d\"}],\"parcoords\":[{\"line\":{\"colorbar\":{\"outlinewidth\":0,\"ticks\":\"\"}},\"type\":\"parcoords\"}],\"pie\":[{\"automargin\":true,\"type\":\"pie\"}],\"scatter\":[{\"marker\":{\"colorbar\":{\"outlinewidth\":0,\"ticks\":\"\"}},\"type\":\"scatter\"}],\"scatter3d\":[{\"line\":{\"colorbar\":{\"outlinewidth\":0,\"ticks\":\"\"}},\"marker\":{\"colorbar\":{\"outlinewidth\":0,\"ticks\":\"\"}},\"type\":\"scatter3d\"}],\"scattercarpet\":[{\"marker\":{\"colorbar\":{\"outlinewidth\":0,\"ticks\":\"\"}},\"type\":\"scattercarpet\"}],\"scattergeo\":[{\"marker\":{\"colorbar\":{\"outlinewidth\":0,\"ticks\":\"\"}},\"type\":\"scattergeo\"}],\"scattergl\":[{\"marker\":{\"colorbar\":{\"outlinewidth\":0,\"ticks\":\"\"}},\"type\":\"scattergl\"}],\"scattermapbox\":[{\"marker\":{\"colorbar\":{\"outlinewidth\":0,\"ticks\":\"\"}},\"type\":\"scattermapbox\"}],\"scatterpolar\":[{\"marker\":{\"colorbar\":{\"outlinewidth\":0,\"ticks\":\"\"}},\"type\":\"scatterpolar\"}],\"scatterpolargl\":[{\"marker\":{\"colorbar\":{\"outlinewidth\":0,\"ticks\":\"\"}},\"type\":\"scatterpolargl\"}],\"scatterternary\":[{\"marker\":{\"colorbar\":{\"outlinewidth\":0,\"ticks\":\"\"}},\"type\":\"scatterternary\"}],\"surface\":[{\"colorbar\":{\"outlinewidth\":0,\"ticks\":\"\"},\"colorscale\":[[0.0,\"#0d0887\"],[0.1111111111111111,\"#46039f\"],[0.2222222222222222,\"#7201a8\"],[0.3333333333333333,\"#9c179e\"],[0.4444444444444444,\"#bd3786\"],[0.5555555555555556,\"#d8576b\"],[0.6666666666666666,\"#ed7953\"],[0.7777777777777778,\"#fb9f3a\"],[0.8888888888888888,\"#fdca26\"],[1.0,\"#f0f921\"]],\"type\":\"surface\"}],\"table\":[{\"cells\":{\"fill\":{\"color\":\"#EBF0F8\"},\"line\":{\"color\":\"white\"}},\"header\":{\"fill\":{\"color\":\"#C8D4E3\"},\"line\":{\"color\":\"white\"}},\"type\":\"table\"}]},\"layout\":{\"annotationdefaults\":{\"arrowcolor\":\"#2a3f5f\",\"arrowhead\":0,\"arrowwidth\":1},\"autotypenumbers\":\"strict\",\"coloraxis\":{\"colorbar\":{\"outlinewidth\":0,\"ticks\":\"\"}},\"colorscale\":{\"diverging\":[[0,\"#8e0152\"],[0.1,\"#c51b7d\"],[0.2,\"#de77ae\"],[0.3,\"#f1b6da\"],[0.4,\"#fde0ef\"],[0.5,\"#f7f7f7\"],[0.6,\"#e6f5d0\"],[0.7,\"#b8e186\"],[0.8,\"#7fbc41\"],[0.9,\"#4d9221\"],[1,\"#276419\"]],\"sequential\":[[0.0,\"#0d0887\"],[0.1111111111111111,\"#46039f\"],[0.2222222222222222,\"#7201a8\"],[0.3333333333333333,\"#9c179e\"],[0.4444444444444444,\"#bd3786\"],[0.5555555555555556,\"#d8576b\"],[0.6666666666666666,\"#ed7953\"],[0.7777777777777778,\"#fb9f3a\"],[0.8888888888888888,\"#fdca26\"],[1.0,\"#f0f921\"]],\"sequentialminus\":[[0.0,\"#0d0887\"],[0.1111111111111111,\"#46039f\"],[0.2222222222222222,\"#7201a8\"],[0.3333333333333333,\"#9c179e\"],[0.4444444444444444,\"#bd3786\"],[0.5555555555555556,\"#d8576b\"],[0.6666666666666666,\"#ed7953\"],[0.7777777777777778,\"#fb9f3a\"],[0.8888888888888888,\"#fdca26\"],[1.0,\"#f0f921\"]]},\"colorway\":[\"#636efa\",\"#EF553B\",\"#00cc96\",\"#ab63fa\",\"#FFA15A\",\"#19d3f3\",\"#FF6692\",\"#B6E880\",\"#FF97FF\",\"#FECB52\"],\"font\":{\"color\":\"#2a3f5f\"},\"geo\":{\"bgcolor\":\"white\",\"lakecolor\":\"white\",\"landcolor\":\"#E5ECF6\",\"showlakes\":true,\"showland\":true,\"subunitcolor\":\"white\"},\"hoverlabel\":{\"align\":\"left\"},\"hovermode\":\"closest\",\"mapbox\":{\"style\":\"light\"},\"paper_bgcolor\":\"white\",\"plot_bgcolor\":\"#E5ECF6\",\"polar\":{\"angularaxis\":{\"gridcolor\":\"white\",\"linecolor\":\"white\",\"ticks\":\"\"},\"bgcolor\":\"#E5ECF6\",\"radialaxis\":{\"gridcolor\":\"white\",\"linecolor\":\"white\",\"ticks\":\"\"}},\"scene\":{\"xaxis\":{\"backgroundcolor\":\"#E5ECF6\",\"gridcolor\":\"white\",\"gridwidth\":2,\"linecolor\":\"white\",\"showbackground\":true,\"ticks\":\"\",\"zerolinecolor\":\"white\"},\"yaxis\":{\"backgroundcolor\":\"#E5ECF6\",\"gridcolor\":\"white\",\"gridwidth\":2,\"linecolor\":\"white\",\"showbackground\":true,\"ticks\":\"\",\"zerolinecolor\":\"white\"},\"zaxis\":{\"backgroundcolor\":\"#E5ECF6\",\"gridcolor\":\"white\",\"gridwidth\":2,\"linecolor\":\"white\",\"showbackground\":true,\"ticks\":\"\",\"zerolinecolor\":\"white\"}},\"shapedefaults\":{\"line\":{\"color\":\"#2a3f5f\"}},\"ternary\":{\"aaxis\":{\"gridcolor\":\"white\",\"linecolor\":\"white\",\"ticks\":\"\"},\"baxis\":{\"gridcolor\":\"white\",\"linecolor\":\"white\",\"ticks\":\"\"},\"bgcolor\":\"#E5ECF6\",\"caxis\":{\"gridcolor\":\"white\",\"linecolor\":\"white\",\"ticks\":\"\"}},\"title\":{\"x\":0.05},\"xaxis\":{\"automargin\":true,\"gridcolor\":\"white\",\"linecolor\":\"white\",\"ticks\":\"\",\"title\":{\"standoff\":15},\"zerolinecolor\":\"white\",\"zerolinewidth\":2},\"yaxis\":{\"automargin\":true,\"gridcolor\":\"white\",\"linecolor\":\"white\",\"ticks\":\"\",\"title\":{\"standoff\":15},\"zerolinecolor\":\"white\",\"zerolinewidth\":2}}},\"autosize\":false,\"width\":700,\"height\":500,\"paper_bgcolor\":\"lightgrey\"},                        {\"responsive\": true}                    ).then(function(){\n",
              "                            \n",
              "var gd = document.getElementById('44dfca93-394f-49bd-b347-514fe4f8ab62');\n",
              "var x = new MutationObserver(function (mutations, observer) {{\n",
              "        var display = window.getComputedStyle(gd).display;\n",
              "        if (!display || display === 'none') {{\n",
              "            console.log([gd, 'removed!']);\n",
              "            Plotly.purge(gd);\n",
              "            observer.disconnect();\n",
              "        }}\n",
              "}});\n",
              "\n",
              "// Listen for the removal of the full notebook cells\n",
              "var notebookContainer = gd.closest('#notebook-container');\n",
              "if (notebookContainer) {{\n",
              "    x.observe(notebookContainer, {childList: true});\n",
              "}}\n",
              "\n",
              "// Listen for the clearing of the current output cell\n",
              "var outputEl = gd.closest('.output');\n",
              "if (outputEl) {{\n",
              "    x.observe(outputEl, {childList: true});\n",
              "}}\n",
              "\n",
              "                        })                };                            </script>        </div>\n",
              "</body>\n",
              "</html>"
            ]
          },
          "metadata": {}
        }
      ]
    },
    {
      "cell_type": "code",
      "source": [
        ""
      ],
      "metadata": {
        "id": "mCRFQgefcmH7"
      },
      "execution_count": null,
      "outputs": []
    }
  ]
}